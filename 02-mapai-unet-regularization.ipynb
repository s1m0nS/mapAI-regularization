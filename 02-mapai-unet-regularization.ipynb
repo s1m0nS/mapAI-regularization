{
  "cells": [
    {
      "cell_type": "markdown",
      "metadata": {
        "id": "1KJnP7zSGQg5"
      },
      "source": [
        "## Binary semantic segmentation example using U-Net\n",
        "Preparation of dataset and model training code from here:\n",
        "\n",
        "https://pyimagesearch.com/2021/11/08/u-net-training-image-segmentation-models-in-pytorch/"
      ]
    },
    {
      "cell_type": "code",
      "execution_count": 1,
      "metadata": {
        "colab": {
          "base_uri": "https://localhost:8080/"
        },
        "id": "cFxHJWmXlcZk",
        "outputId": "b755d1a8-3650-42d9-8718-401b4458f049"
      },
      "outputs": [
        {
          "name": "stdout",
          "output_type": "stream",
          "text": [
            "1.13.1\n",
            "0.14.1\n",
            "cuda\n"
          ]
        },
        {
          "name": "stderr",
          "output_type": "stream",
          "text": [
            "/home/shymon/anaconda3/envs/torch/lib/python3.10/site-packages/tqdm/auto.py:21: TqdmWarning: IProgress not found. Please update jupyter and ipywidgets. See https://ipywidgets.readthedocs.io/en/stable/user_install.html\n",
            "  from .autonotebook import tqdm as notebook_tqdm\n"
          ]
        }
      ],
      "source": [
        "import os\n",
        "import glob\n",
        "import matplotlib.pyplot as plt\n",
        "\n",
        "import torch\n",
        "import torchvision\n",
        "from tqdm import tqdm\n",
        "\n",
        "print(torch.__version__)\n",
        "print(torchvision.__version__)\n",
        "\n",
        "DEVICE = \"cuda\" if torch.cuda.is_available() else \"cpu\"\n",
        "print(DEVICE)\n",
        "\n",
        "# determine if we will be pinning memory during data loading\n",
        "PIN_MEMORY = True if DEVICE == \"cuda\" else False"
      ]
    },
    {
      "attachments": {},
      "cell_type": "markdown",
      "metadata": {
        "id": "KVfaGZrWG63Q"
      },
      "source": [
        "#### CONFIGURE PATHS AND HYPERPARAMETERS FOR TRAINING BELOW."
      ]
    },
    {
      "cell_type": "code",
      "execution_count": 2,
      "metadata": {},
      "outputs": [
        {
          "name": "stdout",
          "output_type": "stream",
          "text": [
            "/home/shymon/Documents/mapAI-regularization\n",
            "/home/shymon/datasets/mapai_full\n",
            "/home/shymon/datasets/mapai_full/train/images\n",
            "/home/shymon/datasets/mapai_full/train/masks\n",
            "/home/shymon/datasets/mapai_full/validation/images\n",
            "/home/shymon/datasets/mapai_full/validation/masks\n",
            "/home/shymon/datasets/mapai_full/task1_test/images\n",
            "/home/shymon/datasets/mapai_full/task1_test/masks\n",
            "/home/shymon/Documents/mapAI-regularization/trained_models/unet-25-epochs.pth\n",
            "/home/shymon/Documents/mapAI-regularization/plots/unet-25-epochs.png\n"
          ]
        }
      ],
      "source": [
        "GD_PATH = os.getcwd() # get current working directory for the repo\n",
        "print(GD_PATH)\n",
        "\n",
        "# PROVIDE PATH TO DOWNLOADED MAPAI DATASET\n",
        "DATASET_PATH = \"/home/shymon/datasets/\"\n",
        "\n",
        "DATASET_PATH = os.path.join(DATASET_PATH, \"mapai_full\") # create dataset path\n",
        "\n",
        "print(DATASET_PATH)\n",
        "\n",
        "TRAIN_IMG_DIR = os.path.join(DATASET_PATH, \"train\", \"images\")\n",
        "TRAIN_MASK_DIR = os.path.join(DATASET_PATH, \"train\", \"masks\")\n",
        "\n",
        "print(TRAIN_IMG_DIR)\n",
        "print(TRAIN_MASK_DIR)\n",
        "\n",
        "VAL_IMG_DIR = os.path.join(DATASET_PATH, \"validation\", \"images\")\n",
        "VAL_MASK_DIR = os.path.join(DATASET_PATH, \"validation\", \"masks\")\n",
        "\n",
        "print(VAL_IMG_DIR)\n",
        "print(VAL_MASK_DIR)\n",
        "\n",
        "TEST_IMG_DIR = os.path.join(DATASET_PATH, \"task1_test\", \"images\")\n",
        "TEST_MASK_DIR = os.path.join(DATASET_PATH, \"task1_test\", \"masks\")\n",
        "\n",
        "print(TEST_IMG_DIR)\n",
        "print(TEST_MASK_DIR)\n",
        "\n",
        "# CONFIGURE MapAI DATASET\n",
        "NUM_CHANNELS = 3\n",
        "NUM_LEVELS  = 3\n",
        "NUM_CLASSES = 1\n",
        "\n",
        "# IMAGE SHAPE\n",
        "IMG_WIDTH = 512\n",
        "IMG_HEIGHT = 512\n",
        "\n",
        "#---------------------------------------------------------------------------------------------------#\n",
        "\n",
        "# CONFIGURE parameters for training\n",
        "EPOCHS = 25\n",
        "init_lr = 1e-4 # learning rate\n",
        "BATCH_SIZE = 2\n",
        "\n",
        "THRESHOLD  = 0.5\n",
        "base_output = \"out\"\n",
        "\n",
        "model_name = \"unet-25-epochs.pth\" # provide name for model\n",
        "training_plot_name = \"unet-25-epochs.png\"\n",
        "\n",
        "#---------------------------------------------------------------------------------------------------#\n",
        "\n",
        "# OUTPUT PATHS\n",
        "\n",
        "# Trained model path\n",
        "MODEL_PATH = os.path.join(GD_PATH, \"trained_models\", model_name) # change depending on the number of epochs\n",
        "print(MODEL_PATH)\n",
        "PLOT_PATH  = os.path.join(GD_PATH, \"plots\", training_plot_name) # the folder to save future plots\n",
        "print(PLOT_PATH)"
      ]
    },
    {
      "cell_type": "markdown",
      "metadata": {
        "id": "IfSMUZbWWdJn"
      },
      "source": [
        "### Load and read the MapAI dataset"
      ]
    },
    {
      "cell_type": "code",
      "execution_count": 3,
      "metadata": {
        "id": "TPiACQ_6VyQP"
      },
      "outputs": [],
      "source": [
        "import tifffile\n",
        "from torch.utils.data import Dataset\n",
        "import cv2\n",
        "\n",
        "\n",
        "class mapAIdataset(Dataset):\n",
        "    def __init__(self, imagePaths, maskPaths, transforms):\n",
        "        # store the image and mask filepaths, and augmentation\n",
        "        # transforms\n",
        "        self.imagePaths = imagePaths\n",
        "        self.maskPaths = maskPaths\n",
        "        self.transforms = transforms\n",
        "        \n",
        "    def __len__(self):\n",
        "        # return the number of total samples contained in the dataset\n",
        "        return len(self.imagePaths)\n",
        "    \n",
        "    def __getitem__(self, idx):\n",
        "        # grab the image path from the current index\n",
        "        imagePath = self.imagePaths[idx]\n",
        "        # load the image from disk, swap its channels from BGR to RGB,\n",
        "        # and read the associated mask from disk\n",
        "        image = cv2.imread(imagePath)\n",
        "        image = cv2.cvtColor(image, cv2.COLOR_BGR2RGB)\n",
        "        mask = tifffile.imread(self.maskPaths[idx])\n",
        "        # convert the mask to a float32 tensor with values in the range [0, 1]\n",
        "        mask = mask.astype('float32')\n",
        "        # check to see if we are applying any transformations\n",
        "        if self.transforms is not None:\n",
        "            # apply the transformations to both image and its mask\n",
        "            image = self.transforms(image)\n",
        "            mask = self.transforms(mask)\n",
        "    \n",
        "        # return a tuple of the image and its mask\n",
        "        return (image, mask)"
      ]
    },
    {
      "attachments": {},
      "cell_type": "markdown",
      "metadata": {
        "id": "AKXL9bO8WnNg"
      },
      "source": [
        "### Build UNET architecture"
      ]
    },
    {
      "cell_type": "code",
      "execution_count": 4,
      "metadata": {
        "id": "9urE3W1iWp7v"
      },
      "outputs": [],
      "source": [
        "import torch\n",
        "import torch.nn as nn\n",
        "import torchvision.transforms.functional as TF\n",
        "\n",
        "class DoubleConv(nn.Module):\n",
        "    def __init__(self, in_channels, out_channels):\n",
        "        super(DoubleConv, self).__init__()\n",
        "        self.conv = nn.Sequential(\n",
        "            nn.Conv2d(in_channels, out_channels, 3, 1, 1, bias=False),\n",
        "            nn.BatchNorm2d(out_channels),\n",
        "            nn.ReLU(inplace=True),\n",
        "            nn.Conv2d(out_channels, out_channels, 3, 1, 1, bias=False),\n",
        "            nn.BatchNorm2d(out_channels),\n",
        "            nn.ReLU(inplace=True),\n",
        "        )\n",
        "\n",
        "    def forward(self, x):\n",
        "        return self.conv(x)\n",
        "\n",
        "class UNET(nn.Module):\n",
        "    def __init__(\n",
        "            self, in_channels=3, out_channels=1, features=[64, 128, 256, 512],\n",
        "    ):\n",
        "        super(UNET, self).__init__()\n",
        "        self.ups = nn.ModuleList()\n",
        "        self.downs = nn.ModuleList()\n",
        "        self.pool = nn.MaxPool2d(kernel_size=2, stride=2)\n",
        "\n",
        "        # DOWN part of UNET\n",
        "        for feature in features:\n",
        "            self.downs.append(DoubleConv(in_channels, feature))\n",
        "            in_channels = feature\n",
        "\n",
        "        # UP part of UNET\n",
        "        for feature in reversed(features):\n",
        "            self.ups.append(\n",
        "                nn.ConvTranspose2d(\n",
        "                    feature*2, feature, kernel_size=2, stride=2,\n",
        "                )\n",
        "            )\n",
        "            self.ups.append(DoubleConv(feature*2, feature))\n",
        "\n",
        "        self.bottleneck = DoubleConv(features[-1], features[-1]*2)\n",
        "        self.final_conv = nn.Conv2d(features[0], out_channels, kernel_size=1)\n",
        "\n",
        "    def forward(self, x):\n",
        "        skip_connections = []\n",
        "\n",
        "        for down in self.downs:\n",
        "            x = down(x)\n",
        "            skip_connections.append(x)\n",
        "            x = self.pool(x)\n",
        "\n",
        "        x = self.bottleneck(x)\n",
        "        skip_connections = skip_connections[::-1]\n",
        "\n",
        "        for idx in range(0, len(self.ups), 2):\n",
        "            x = self.ups[idx](x)\n",
        "            skip_connection = skip_connections[idx//2]\n",
        "\n",
        "            if x.shape != skip_connection.shape:\n",
        "                x = TF.resize(x, size=skip_connection.shape[2:])\n",
        "\n",
        "            concat_skip = torch.cat((skip_connection, x), dim=1)\n",
        "            x = self.ups[idx+1](concat_skip)\n",
        "\n",
        "        return self.final_conv(x)"
      ]
    },
    {
      "cell_type": "markdown",
      "metadata": {
        "id": "22hbANvfWxmX"
      },
      "source": [
        "### Training the segmentation model\n",
        "Below we append the paths for TRAIN/VAL/TEST sets - images/masks."
      ]
    },
    {
      "cell_type": "code",
      "execution_count": 5,
      "metadata": {
        "colab": {
          "base_uri": "https://localhost:8080/"
        },
        "id": "G2Jha-LCW0ir",
        "outputId": "fcad4c67-0851-42e6-ea68-6b6dd88d26c2"
      },
      "outputs": [],
      "source": [
        "from torch.nn import BCEWithLogitsLoss\n",
        "from torch.optim import Adam\n",
        "from torch.utils.data import DataLoader\n",
        "from imutils import paths\n",
        "import time\n",
        "\n",
        "# TRAINING\n",
        "train_images = sorted(list(paths.list_images(TRAIN_IMG_DIR)))\n",
        "train_masks = sorted(list(paths.list_images(TRAIN_MASK_DIR)))\n",
        "\n",
        "# VALIDATION\n",
        "val_images = sorted(list(paths.list_images(VAL_IMG_DIR)))\n",
        "val_masks = sorted(list(paths.list_images(VAL_MASK_DIR)))\n",
        "\n",
        "\n",
        "# TEST\n",
        "test_images = sorted(list(paths.list_images(TEST_IMG_DIR)))\n",
        "test_masks = sorted(list(paths.list_images(TEST_MASK_DIR)))"
      ]
    },
    {
      "attachments": {},
      "cell_type": "markdown",
      "metadata": {
        "id": "gtqUNGR1XCa5"
      },
      "source": [
        "### Define transformations\n",
        "\n",
        "I tried out different data augmentation techniques, including Horizontal Flip, Vertical Flip, Contrast, Brightness. They did not improve my results much, the validation and training loss were actually worse than without data augmentation techniques."
      ]
    },
    {
      "attachments": {},
      "cell_type": "markdown",
      "metadata": {
        "id": "ghW7Nj0OEQMc"
      },
      "source": [
        "https://pytorch.org/vision/stable/auto_examples/plot_transforms.html#sphx-glr-auto-examples-plot-transforms-py\n",
        "\n",
        "https://albumentations.ai/docs/getting_started/mask_augmentation/"
      ]
    },
    {
      "cell_type": "code",
      "execution_count": 6,
      "metadata": {
        "colab": {
          "base_uri": "https://localhost:8080/"
        },
        "id": "WR_dzdpCXCHY",
        "outputId": "4e9b1681-2846-489f-edf6-a6240af65563"
      },
      "outputs": [
        {
          "name": "stdout",
          "output_type": "stream",
          "text": [
            "[INFO] found 6769 examples in the TRAINING set...\n",
            "[INFO] found 1469 examples in the VALIDATION set...\n",
            "[INFO] found 1368 examples in the TEST set...\n"
          ]
        }
      ],
      "source": [
        "import torchvision.transforms as T\n",
        "\n",
        "# T.RandomHorizontalFlip(p=0.5),\n",
        "# T.RandomVerticalFlip(p=0.1),\n",
        "\n",
        "# Image augmentations applied\n",
        "transforms = T.Compose([T.ToPILImage(),\n",
        "                        T.Resize((IMG_HEIGHT,IMG_WIDTH)),\n",
        "                        T.ToTensor()])\n",
        "\n",
        "# create the train and test datasets\n",
        "trainDS = mapAIdataset(imagePaths=train_images,\n",
        "                       maskPaths=train_masks,\n",
        "                       transforms=transforms)\n",
        "\n",
        "valDS = mapAIdataset(imagePaths=val_images,\n",
        "                     maskPaths=val_masks,\n",
        "                     transforms=transforms)\n",
        "\n",
        "testDS = mapAIdataset(imagePaths=test_images,\n",
        "                      maskPaths=test_masks,\n",
        "                      transforms=transforms)\n",
        "\n",
        "print(f\"[INFO] found {len(trainDS)} examples in the TRAINING set...\")\n",
        "print(f\"[INFO] found {len(valDS)} examples in the VALIDATION set...\")\n",
        "print(f\"[INFO] found {len(testDS)} examples in the TEST set...\")\n",
        "\n",
        "# create the training and test data loaders\n",
        "trainLoader = DataLoader(trainDS,\n",
        "                         shuffle=True,\n",
        "                         batch_size=BATCH_SIZE,\n",
        "                         pin_memory=PIN_MEMORY,\n",
        "                         num_workers=os.cpu_count())\n",
        "\n",
        "valLoader = DataLoader(valDS,\n",
        "                       shuffle=False,\n",
        "                       batch_size=BATCH_SIZE,\n",
        "                       pin_memory=PIN_MEMORY,\n",
        "                       num_workers=os.cpu_count())\n",
        "\n",
        "testLoader = DataLoader(testDS,\n",
        "                        shuffle=False,\n",
        "                        batch_size=BATCH_SIZE,\n",
        "                        pin_memory=PIN_MEMORY,\n",
        "                        num_workers=os.cpu_count())"
      ]
    },
    {
      "cell_type": "markdown",
      "metadata": {
        "id": "tAO9M_R4XG6q"
      },
      "source": [
        "### Initialize UNET model for training\n",
        "\n",
        "Here we initialize the defined UNET model for training and calculate the steps per epoch for train/val/test set."
      ]
    },
    {
      "cell_type": "code",
      "execution_count": 7,
      "metadata": {
        "colab": {
          "base_uri": "https://localhost:8080/"
        },
        "id": "2IMsYzUaXJW7",
        "outputId": "5328f1e2-4a71-4c05-fa9e-23b768971315"
      },
      "outputs": [
        {
          "name": "stdout",
          "output_type": "stream",
          "text": [
            "3384 734 684\n"
          ]
        },
        {
          "data": {
            "text/plain": [
              "{'train_loss': [], 'val_loss': [], 'test_loss': []}"
            ]
          },
          "execution_count": 7,
          "metadata": {},
          "output_type": "execute_result"
        }
      ],
      "source": [
        "model = UNET().to(DEVICE)\n",
        "\n",
        "# loss / optimizer\n",
        "lossFunction = BCEWithLogitsLoss()\n",
        "opt = Adam(model.parameters(), lr=init_lr, weight_decay=0.001)\n",
        "\n",
        "# calculate steps per epoch for train/val/test\n",
        "trainSteps = len(trainDS) // BATCH_SIZE \n",
        "valSteps = len(valDS) // BATCH_SIZE\n",
        "testSteps = len(testDS) // BATCH_SIZE\n",
        "\n",
        "print(trainSteps, valSteps, testSteps)\n",
        "\n",
        "# initialize a dictionary to store training history\n",
        "H = {\"train_loss\": [], \"val_loss\": [], \"test_loss\": []}\n",
        "H"
      ]
    },
    {
      "cell_type": "code",
      "execution_count": 8,
      "metadata": {
        "id": "WEP-IVokbWQg"
      },
      "outputs": [],
      "source": [
        "torch.cuda.empty_cache() # PyTorch thing to empty cache"
      ]
    },
    {
      "attachments": {},
      "cell_type": "markdown",
      "metadata": {
        "id": "xcjuKhMeXLU-"
      },
      "source": [
        "### TRAINING THE MODEL\n",
        "\n",
        "Run this piece of code only if you want to train the model from scratch.\n",
        "\n",
        "Training locally: BATCH_SIZE  = 2 takes 5035 MB of GPU memory.\n",
        "\n"
      ]
    },
    {
      "cell_type": "code",
      "execution_count": null,
      "metadata": {
        "colab": {
          "base_uri": "https://localhost:8080/"
        },
        "id": "vWuUyLUgXPNf",
        "outputId": "34c6485b-838b-45cf-99da-601f7cfbc4d1"
      },
      "outputs": [],
      "source": [
        "# loop over epochs\n",
        "print(\"[INFO] training UNET ...\")\n",
        "startTime = time.time()\n",
        "\n",
        "for epoch in tqdm(range(EPOCHS)):\n",
        "    model.train()\n",
        "\n",
        "    # initialize total training and validation loss\n",
        "    totalTrainLoss = 0\n",
        "    totalValLoss = 0\n",
        "    totalTrainAcc = 0\n",
        "    totalValAcc = 0\n",
        "\n",
        "    # loop over the training set\n",
        "    for (i, (x, y)) in enumerate(trainLoader):\n",
        "        # send output to device\n",
        "        (x, y) = (x.to(DEVICE), y.to(DEVICE))\n",
        "\n",
        "        # perform a forward pass and calculate the training loss\n",
        "        pred = model(x)\n",
        "        loss = lossFunction(pred, y)\n",
        "\n",
        "        # calculate the accuracy\n",
        "        acc = ((pred > 0.5) == y).float().mean()\n",
        "\n",
        "        # kill previously accumulated gradients then\n",
        "        # perform backpropagation and update model parameters\n",
        "        opt.zero_grad()\n",
        "        loss.backward()\n",
        "        opt.step()\n",
        "\n",
        "        # add the loss and accuracy to the total training loss and accuracy\n",
        "        totalTrainLoss += loss\n",
        "        totalTrainAcc += acc\n",
        "\n",
        "    # switch of autograd\n",
        "    with torch.no_grad():\n",
        "        # set the model in evaluation mode\n",
        "        model.eval()\n",
        "\n",
        "        # loop over the validation set\n",
        "        for (x, y) in valLoader:\n",
        "            # send the input to the device\n",
        "            (x, y) = (x.to(DEVICE), y.to(DEVICE))\n",
        "\n",
        "            # make the predictions and calculate the validation loss\n",
        "            pred = model(x)\n",
        "            loss = lossFunction(pred, y)\n",
        "\n",
        "            # calculate the accuracy\n",
        "            acc = ((pred > 0.5) == y).float().mean()\n",
        "\n",
        "            # add the loss and accuracy to the total validation loss and accuracy\n",
        "            totalValLoss += loss\n",
        "            totalValAcc += acc\n",
        "\n",
        "    # calculate the average training and validation loss and accuracy\n",
        "    avgTrainLoss = totalTrainLoss / trainSteps\n",
        "    avgValLoss = totalValLoss / valSteps\n",
        "    avgTrainAcc = totalTrainAcc / trainSteps\n",
        "    avgValAcc = totalValAcc / valSteps\n",
        "        \n",
        "    # update our training history\n",
        "    H[\"train_loss\"].append(avgTrainLoss.cpu().detach().numpy())\n",
        "    H[\"val_loss\"].append(avgValLoss.cpu().detach().numpy())\n",
        "\n",
        "    # print the model training and validation information\n",
        "    print(\"[INFO] EPOCH: {}/{}\".format(epoch + 1, EPOCHS))\n",
        "    print(\"Train loss: {:.6f}, Train acc: {:.6f}, Val loss: {:.4f}, Val acc: {:.4f}\".format(\n",
        "        avgTrainLoss, avgTrainAcc, avgValLoss, avgValAcc))\n",
        "        \n",
        "# display the total time needed to perform the training\n",
        "endTime = time.time()\n",
        "print(\"[INFO] total time taken to train the model: {:.2f}s\".format(endTime - startTime))"
      ]
    },
    {
      "attachments": {},
      "cell_type": "markdown",
      "metadata": {},
      "source": [
        "Train loss: 0.001194, Val loss: 0.0013\n",
        "[INFO] total time taken to train the model: 27115.38s"
      ]
    },
    {
      "cell_type": "code",
      "execution_count": null,
      "metadata": {
        "colab": {
          "base_uri": "https://localhost:8080/"
        },
        "id": "CsJoOVn11rs9",
        "outputId": "c9a36460-f773-4771-cfd7-fec78711d8cc"
      },
      "outputs": [],
      "source": [
        "H # show traning/val loss history"
      ]
    },
    {
      "cell_type": "markdown",
      "metadata": {
        "id": "ff8fgb3duj1M"
      },
      "source": [
        "#### Training times\n",
        "\n",
        "*   5 epochs:  1068.83s\n",
        "*   10 epochs: 1926.91s\n",
        "*   50 epochs: 9461.90s = 2h 37m 41s  \n",
        "*   100 epochs: 20829 s  = 5 h 45 m\n",
        "*   100 epochs - Premium GPU: 2314.83s = 39 min\n",
        "\n",
        "The mentioned models are stored on my computer and on Google Drive.\n"
      ]
    },
    {
      "cell_type": "markdown",
      "metadata": {
        "id": "U6ChLXHuXZHA"
      },
      "source": [
        "### Plot the training and validation loss"
      ]
    },
    {
      "cell_type": "code",
      "execution_count": null,
      "metadata": {},
      "outputs": [],
      "source": [
        "PLOT_PATH"
      ]
    },
    {
      "cell_type": "code",
      "execution_count": null,
      "metadata": {
        "colab": {
          "base_uri": "https://localhost:8080/",
          "height": 316
        },
        "id": "j04HfubrXYvX",
        "outputId": "5416f4a7-2647-40e9-ce25-cac7909dea50"
      },
      "outputs": [],
      "source": [
        "# plot the training loss\n",
        "print(MODEL_PATH)\n",
        "print(PLOT_PATH)\n",
        "\n",
        "plt.style.use(\"ggplot\")\n",
        "plt.figure()\n",
        "plt.plot(H[\"train_loss\"], label=\"train_loss\")\n",
        "plt.plot(H[\"val_loss\"], label=\"val_loss\")\n",
        "plt.title(\"Training Loss on Dataset\")\n",
        "plt.xlabel(\"Epoch #\")\n",
        "plt.ylabel(\"Loss\")\n",
        "plt.legend(loc=\"lower left\")\n",
        "plt.savefig(PLOT_PATH)\n",
        "# serialize the model to disk\n",
        "torch.save(model, MODEL_PATH) # saves the model"
      ]
    },
    {
      "cell_type": "markdown",
      "metadata": {
        "id": "mQdUnwTMJtOH"
      },
      "source": [
        "As you can see the validation loss is jumping up and down. I do not know why this happens."
      ]
    },
    {
      "cell_type": "markdown",
      "metadata": {
        "id": "5Y6Fx2oaWr0q"
      },
      "source": [
        "### Prediction part\n",
        "\n",
        "Here the trained model is loaded and use for prediction on test images."
      ]
    },
    {
      "cell_type": "code",
      "execution_count": 9,
      "metadata": {
        "colab": {
          "base_uri": "https://localhost:8080/"
        },
        "id": "yJ0wjT8Nkmax",
        "outputId": "795a0ac9-cbfe-40e0-c0cc-b5bfd088d76d"
      },
      "outputs": [
        {
          "name": "stdout",
          "output_type": "stream",
          "text": [
            "/home/shymon/Documents/mapAI-regularization/trained_models/unet-25-epochs.pth\n",
            "model loaded for prediction\n"
          ]
        },
        {
          "data": {
            "text/plain": [
              "UNET(\n",
              "  (ups): ModuleList(\n",
              "    (0): ConvTranspose2d(1024, 512, kernel_size=(2, 2), stride=(2, 2))\n",
              "    (1): DoubleConv(\n",
              "      (conv): Sequential(\n",
              "        (0): Conv2d(1024, 512, kernel_size=(3, 3), stride=(1, 1), padding=(1, 1), bias=False)\n",
              "        (1): BatchNorm2d(512, eps=1e-05, momentum=0.1, affine=True, track_running_stats=True)\n",
              "        (2): ReLU(inplace=True)\n",
              "        (3): Conv2d(512, 512, kernel_size=(3, 3), stride=(1, 1), padding=(1, 1), bias=False)\n",
              "        (4): BatchNorm2d(512, eps=1e-05, momentum=0.1, affine=True, track_running_stats=True)\n",
              "        (5): ReLU(inplace=True)\n",
              "      )\n",
              "    )\n",
              "    (2): ConvTranspose2d(512, 256, kernel_size=(2, 2), stride=(2, 2))\n",
              "    (3): DoubleConv(\n",
              "      (conv): Sequential(\n",
              "        (0): Conv2d(512, 256, kernel_size=(3, 3), stride=(1, 1), padding=(1, 1), bias=False)\n",
              "        (1): BatchNorm2d(256, eps=1e-05, momentum=0.1, affine=True, track_running_stats=True)\n",
              "        (2): ReLU(inplace=True)\n",
              "        (3): Conv2d(256, 256, kernel_size=(3, 3), stride=(1, 1), padding=(1, 1), bias=False)\n",
              "        (4): BatchNorm2d(256, eps=1e-05, momentum=0.1, affine=True, track_running_stats=True)\n",
              "        (5): ReLU(inplace=True)\n",
              "      )\n",
              "    )\n",
              "    (4): ConvTranspose2d(256, 128, kernel_size=(2, 2), stride=(2, 2))\n",
              "    (5): DoubleConv(\n",
              "      (conv): Sequential(\n",
              "        (0): Conv2d(256, 128, kernel_size=(3, 3), stride=(1, 1), padding=(1, 1), bias=False)\n",
              "        (1): BatchNorm2d(128, eps=1e-05, momentum=0.1, affine=True, track_running_stats=True)\n",
              "        (2): ReLU(inplace=True)\n",
              "        (3): Conv2d(128, 128, kernel_size=(3, 3), stride=(1, 1), padding=(1, 1), bias=False)\n",
              "        (4): BatchNorm2d(128, eps=1e-05, momentum=0.1, affine=True, track_running_stats=True)\n",
              "        (5): ReLU(inplace=True)\n",
              "      )\n",
              "    )\n",
              "    (6): ConvTranspose2d(128, 64, kernel_size=(2, 2), stride=(2, 2))\n",
              "    (7): DoubleConv(\n",
              "      (conv): Sequential(\n",
              "        (0): Conv2d(128, 64, kernel_size=(3, 3), stride=(1, 1), padding=(1, 1), bias=False)\n",
              "        (1): BatchNorm2d(64, eps=1e-05, momentum=0.1, affine=True, track_running_stats=True)\n",
              "        (2): ReLU(inplace=True)\n",
              "        (3): Conv2d(64, 64, kernel_size=(3, 3), stride=(1, 1), padding=(1, 1), bias=False)\n",
              "        (4): BatchNorm2d(64, eps=1e-05, momentum=0.1, affine=True, track_running_stats=True)\n",
              "        (5): ReLU(inplace=True)\n",
              "      )\n",
              "    )\n",
              "  )\n",
              "  (downs): ModuleList(\n",
              "    (0): DoubleConv(\n",
              "      (conv): Sequential(\n",
              "        (0): Conv2d(3, 64, kernel_size=(3, 3), stride=(1, 1), padding=(1, 1), bias=False)\n",
              "        (1): BatchNorm2d(64, eps=1e-05, momentum=0.1, affine=True, track_running_stats=True)\n",
              "        (2): ReLU(inplace=True)\n",
              "        (3): Conv2d(64, 64, kernel_size=(3, 3), stride=(1, 1), padding=(1, 1), bias=False)\n",
              "        (4): BatchNorm2d(64, eps=1e-05, momentum=0.1, affine=True, track_running_stats=True)\n",
              "        (5): ReLU(inplace=True)\n",
              "      )\n",
              "    )\n",
              "    (1): DoubleConv(\n",
              "      (conv): Sequential(\n",
              "        (0): Conv2d(64, 128, kernel_size=(3, 3), stride=(1, 1), padding=(1, 1), bias=False)\n",
              "        (1): BatchNorm2d(128, eps=1e-05, momentum=0.1, affine=True, track_running_stats=True)\n",
              "        (2): ReLU(inplace=True)\n",
              "        (3): Conv2d(128, 128, kernel_size=(3, 3), stride=(1, 1), padding=(1, 1), bias=False)\n",
              "        (4): BatchNorm2d(128, eps=1e-05, momentum=0.1, affine=True, track_running_stats=True)\n",
              "        (5): ReLU(inplace=True)\n",
              "      )\n",
              "    )\n",
              "    (2): DoubleConv(\n",
              "      (conv): Sequential(\n",
              "        (0): Conv2d(128, 256, kernel_size=(3, 3), stride=(1, 1), padding=(1, 1), bias=False)\n",
              "        (1): BatchNorm2d(256, eps=1e-05, momentum=0.1, affine=True, track_running_stats=True)\n",
              "        (2): ReLU(inplace=True)\n",
              "        (3): Conv2d(256, 256, kernel_size=(3, 3), stride=(1, 1), padding=(1, 1), bias=False)\n",
              "        (4): BatchNorm2d(256, eps=1e-05, momentum=0.1, affine=True, track_running_stats=True)\n",
              "        (5): ReLU(inplace=True)\n",
              "      )\n",
              "    )\n",
              "    (3): DoubleConv(\n",
              "      (conv): Sequential(\n",
              "        (0): Conv2d(256, 512, kernel_size=(3, 3), stride=(1, 1), padding=(1, 1), bias=False)\n",
              "        (1): BatchNorm2d(512, eps=1e-05, momentum=0.1, affine=True, track_running_stats=True)\n",
              "        (2): ReLU(inplace=True)\n",
              "        (3): Conv2d(512, 512, kernel_size=(3, 3), stride=(1, 1), padding=(1, 1), bias=False)\n",
              "        (4): BatchNorm2d(512, eps=1e-05, momentum=0.1, affine=True, track_running_stats=True)\n",
              "        (5): ReLU(inplace=True)\n",
              "      )\n",
              "    )\n",
              "  )\n",
              "  (pool): MaxPool2d(kernel_size=2, stride=2, padding=0, dilation=1, ceil_mode=False)\n",
              "  (bottleneck): DoubleConv(\n",
              "    (conv): Sequential(\n",
              "      (0): Conv2d(512, 1024, kernel_size=(3, 3), stride=(1, 1), padding=(1, 1), bias=False)\n",
              "      (1): BatchNorm2d(1024, eps=1e-05, momentum=0.1, affine=True, track_running_stats=True)\n",
              "      (2): ReLU(inplace=True)\n",
              "      (3): Conv2d(1024, 1024, kernel_size=(3, 3), stride=(1, 1), padding=(1, 1), bias=False)\n",
              "      (4): BatchNorm2d(1024, eps=1e-05, momentum=0.1, affine=True, track_running_stats=True)\n",
              "      (5): ReLU(inplace=True)\n",
              "    )\n",
              "  )\n",
              "  (final_conv): Conv2d(64, 1, kernel_size=(1, 1), stride=(1, 1))\n",
              ")"
            ]
          },
          "execution_count": 9,
          "metadata": {},
          "output_type": "execute_result"
        }
      ],
      "source": [
        "# Load saved model for prediction\n",
        "\n",
        "print(MODEL_PATH)\n",
        "\n",
        "model = torch.load(MODEL_PATH) # add MODEL_PATH after training\n",
        "print(\"model loaded for prediction\")\n",
        "\n",
        "model"
      ]
    },
    {
      "attachments": {},
      "cell_type": "markdown",
      "metadata": {},
      "source": [
        "#### Provide test images for MapAI Dataset"
      ]
    },
    {
      "cell_type": "code",
      "execution_count": 10,
      "metadata": {},
      "outputs": [
        {
          "data": {
            "text/plain": [
              "'/home/shymon/Documents/mapAI-regularization/predictions'"
            ]
          },
          "execution_count": 10,
          "metadata": {},
          "output_type": "execute_result"
        }
      ],
      "source": [
        "PREDICTIONS_DIR = os.path.join(GD_PATH, \"predictions\")\n",
        "PREDICTIONS_DIR"
      ]
    },
    {
      "attachments": {},
      "cell_type": "markdown",
      "metadata": {},
      "source": [
        "#### Make predictions on the entire MapAI dataset\n",
        "\n",
        "Make predictions on test images and save them to the folder named predictions."
      ]
    },
    {
      "cell_type": "code",
      "execution_count": null,
      "metadata": {},
      "outputs": [],
      "source": [
        "import random\n",
        "import gc\n",
        "from pathlib import Path\n",
        "import numpy as np\n",
        "from PIL import Image\n",
        "\n",
        "# PLOTTING PREDICTIONS AS SINGLE IMAGES\n",
        "\n",
        "# Output folder for the predictions\n",
        "output_folder = PREDICTIONS_DIR + \"/\" # check for Windows to save predictions inside the folder\n",
        "\n",
        "# PLOT TEST IMAGES as RGB\n",
        "for n in range(len(test_images)):\n",
        "  gc.collect()\n",
        "  # Test image number\n",
        "  testImgName = str(Path(test_images[n]).stem) + '.tif'\n",
        "  #print('#', testImgName)\n",
        "\n",
        "   # Make predicton on a test image specified with counter n\n",
        "  test_img = test_images[n]\n",
        "  test_img_input = np.expand_dims(test_img, 0)\n",
        "  #print('#', test_img_input[0])\n",
        "\n",
        "  # PyTorch --> works\n",
        "  model.eval()\n",
        "  with torch.no_grad():\n",
        "    image = cv2.imread(test_img_input[0])\n",
        "    image = cv2.resize(image, dsize = (IMG_WIDTH, IMG_HEIGHT), interpolation=cv2.INTER_CUBIC)\n",
        "    image = cv2.cvtColor(image, cv2.COLOR_BGR2RGB)\n",
        "    image = image.astype(\"float32\") / 255\n",
        "    \n",
        "    # print('SIZE: ', image.shape)\n",
        "\n",
        "    # make the channel axis to be the leading one, add batch dimension\n",
        "    image = np.transpose(image, (2, 0, 1))\n",
        "    # create a PyTorch tensor\n",
        "    image = np.expand_dims(image, 0)\n",
        "    # flash the tensor to the device\n",
        "    image  = torch.from_numpy(image).to(DEVICE)\n",
        "\n",
        "    # make the prediction\n",
        "    predMask = model(image).squeeze()\n",
        "    # pass result through sigmoid\n",
        "    predMask = torch.sigmoid(predMask)\n",
        "\n",
        "    # convert result to numpy array\n",
        "    predMask = predMask.cpu().numpy()\n",
        "\n",
        "    # filter out the weak predictions and convert them to integers\n",
        "    predMask = (predMask > THRESHOLD) * 255\n",
        "    predMask = predMask.astype(np.uint8)\n",
        "\n",
        "    # generate image from array\n",
        "    pIMG = Image.fromarray(predMask)\n",
        "    pIMG.save(str(output_folder + testImgName))\n",
        "\n",
        "    print('Prediction:', testImgName, 'saved to:', output_folder)"
      ]
    },
    {
      "attachments": {},
      "cell_type": "markdown",
      "metadata": {},
      "source": [
        "#### Make predictions on single images by choice\n",
        "\n",
        "Change the parameter n to choose which image to plot."
      ]
    },
    {
      "cell_type": "code",
      "execution_count": null,
      "metadata": {},
      "outputs": [],
      "source": [
        "# ----------------------------------------------------------------------\n",
        "\n",
        "predictions = glob.glob(output_folder + \"*.tif\")\n",
        "predictions.sort()\n",
        "print(\"# IMAGES for prediction: \", len(predictions))\n",
        "print(\"Choosen n can be from 0 o 1367! \")\n",
        "\n",
        "# ----------------------------------------------------------------------\n",
        "\n",
        "n = 900 # change this number depending on which image you want to test\n",
        "\n",
        "fig = plt.figure(figsize=(18,12))\n",
        "ax1 = fig.add_subplot(131)\n",
        "\n",
        "ax1.set_title('RGB image: ')\n",
        "image = cv2.imread(test_images[n])[:,:,::-1]\n",
        "ax1.imshow(image)\n",
        "ax1.set_axis_off()\n",
        "\n",
        "ax2 = fig.add_subplot(132)\n",
        "ax2.set_title('Ground truth: ')\n",
        "image = cv2.imread(test_masks[n])[:,:,::-1]\n",
        "image *= 255\n",
        "ax2.imshow(image)\n",
        "ax2.set_axis_off()\n",
        "\n",
        "ax3 = fig.add_subplot(133)\n",
        "ax3.set_title('Prediction: ')\n",
        "image = cv2.imread(predictions[n])[:,:,::-1]\n",
        "ax3.imshow(image)\n",
        "ax3.set_axis_off()"
      ]
    },
    {
      "attachments": {},
      "cell_type": "markdown",
      "metadata": {
        "id": "Tg_0qxbcjzfw"
      },
      "source": [
        "### BUILDING FOOTPRINT REGULARIZATION\n",
        "\n",
        "Used repo: https://github.com/zorzi-s/projectRegularization\n",
        "\n",
        "git clone the repo to the folder where your notebook is stored. To get curent working directory use os.getcwd().\n",
        "\n",
        "The pretrained weights need to be downloaded from the provided link and saved into the folder pretrained_weighs that is inside projectRegularization:\n",
        "\n",
        "https://drive.google.com/drive/folders/1IPrDpvFq9ODW7UtPAJR_T-gGzxDat_uu"
      ]
    },
    {
      "attachments": {},
      "cell_type": "markdown",
      "metadata": {},
      "source": [
        "Next step is to generate a Python file to locate the necessary pretrained weights from projectRegularization. The code below was only tested on Ubuntu, not on Windows."
      ]
    },
    {
      "cell_type": "code",
      "execution_count": null,
      "metadata": {
        "id": "yp8uKrNUjyGn"
      },
      "outputs": [],
      "source": [
        "# DEFINE NECESSARY PATHS FOR REGULARIZATION PART\n",
        "\n",
        "projectRegDir = os.path.join(GD_PATH, \"projectRegularization\")\n",
        "print(projectRegDir)\n",
        "\n",
        "ptw = os.path.join(projectRegDir, \"pretrained_weights\") \n",
        "print(ptw)\n",
        "\n",
        "# OUTPUT REGULARIZATIONS DIR\n",
        "REGULARIZATION_DIR = os.path.join(GD_PATH, \"regularizations\") + \"/\"\n",
        "print(REGULARIZATION_DIR)\n",
        "\n",
        "# GET THE PATHS FOR TRAINED GAN MODELS\n",
        "ENCODER = os.path.join(ptw, \"E140000_e1\")\n",
        "GENERATOR = os.path.join(ptw, \"E140000_net\")\n",
        "\n",
        "print(ENCODER)\n",
        "print(GENERATOR)"
      ]
    },
    {
      "cell_type": "code",
      "execution_count": null,
      "metadata": {},
      "outputs": [],
      "source": [
        "# CREATE A NEW variables.py WITH USERS PATHS\n",
        "\n",
        "with open(projectRegDir + 'variables.py', 'w') as f:\n",
        "    f.write('# CONFIGURE THE PATHS HERE: \\n\\n')\n",
        "    f.write('# TRAINING \\n')\n",
        "    f.write('DATASET_RGB = ' + '\"' + str(TRAIN_IMG_DIR + '*.tif' + '\"') + '\\n')\n",
        "    f.write('DATASET_GTI = ' + '\"' + str(TRAIN_MASK_DIR + '*.tif' + '\"') + '\\n')\n",
        "    f.write('DATASET_SEG = ' + '\"' + str(PREDICTIONS_DIR + '*.tif' + '\"') + '\\n')\n",
        "    f.write('\\n')\n",
        "    f.write('DEBUG_DIR = ' + '\"' + str('./debug/') + '\"' + '\\n')\n",
        "    f.write('\\n')\n",
        "    f.write('# INFERENCE \\n')\n",
        "    f.write('INF_RGB = ' + '\"' + str(TEST_IMG_DIR + '*.tif' + '\"') + '\\n')\n",
        "    f.write('INF_SEG = ' + '\"' + str(PREDICTIONS_DIR + '*.tif' + '\"') + '\\n')\n",
        "    f.write('INF_OUT = ' + '\"' + str(REGULARIZATION_DIR + '\"') + '\\n')\n",
        "    f.write('\\n')\n",
        "    f.write('MODEL_ENCODER = ' + '\"' + str(ENCODER) + '\"' + '\\n')\n",
        "    f.write('MODEL_GENERATOR = ' + '\"' + str(GENERATOR) + '\"' + '\\n')\n",
        "    f.close()\n",
        " \n",
        "print(\"variables.py created with users paths...\")\n"
      ]
    },
    {
      "attachments": {},
      "cell_type": "markdown",
      "metadata": {},
      "source": [
        "#### Run projectRegularization\n",
        "\n",
        "Takes around 6-8 minutes.\n",
        "\n",
        "You only need to change the command below and replace it with the absolute path for regularize.py\n"
      ]
    },
    {
      "cell_type": "code",
      "execution_count": null,
      "metadata": {
        "colab": {
          "base_uri": "https://localhost:8080/"
        },
        "id": "Xn7tn0K8CV3p",
        "outputId": "7f4b50bd-a8a5-43b7-ad9a-d1edea35dc1e"
      },
      "outputs": [],
      "source": [
        "# RUN REGULARIZATION - takes around 6-8 minutes\n",
        "# change the command below: provide the absolute path for regularize.py\n",
        "\n",
        "!python /home/shymon/Documents/mapAI-regularization/projectRegularization/regularize.py"
      ]
    },
    {
      "attachments": {},
      "cell_type": "markdown",
      "metadata": {},
      "source": [
        "### Compare predictions and regularizations on a single image"
      ]
    },
    {
      "cell_type": "code",
      "execution_count": null,
      "metadata": {
        "colab": {
          "base_uri": "https://localhost:8080/"
        },
        "id": "89nW6Q7F6aga",
        "outputId": "976d62a2-76a7-4b52-a4bc-218f63d8a122"
      },
      "outputs": [],
      "source": [
        "# Read Regularizations to plot and compare results\n",
        "\n",
        "regularizations = glob.glob(REGULARIZATION_DIR + \"*.tif\")\n",
        "regularizations.sort()\n",
        "\n",
        "print(\"# of predicted images: \", len(predictions))\n",
        "print(\"# of regularized images: \", len(regularizations))"
      ]
    },
    {
      "attachments": {},
      "cell_type": "markdown",
      "metadata": {},
      "source": [
        "Code to plot RGB, GT, PREDICTION and REGULARIZATION in a single plot for comparison.\n",
        "\n",
        "Change parameter n accordingly."
      ]
    },
    {
      "cell_type": "code",
      "execution_count": null,
      "metadata": {
        "id": "TDWUhUkJaYl8"
      },
      "outputs": [],
      "source": [
        "n = 600\n",
        "\n",
        "fig = plt.figure(figsize=(18,12))\n",
        "ax1 = fig.add_subplot(141)\n",
        "\n",
        "ax1.set_title('RGB: ')\n",
        "image = cv2.imread(test_images[n])[:,:,::-1]\n",
        "ax1.imshow(image)\n",
        "ax1.set_axis_off()\n",
        "\n",
        "ax2 = fig.add_subplot(142)\n",
        "ax2.set_title('Ground truth: ')\n",
        "image = cv2.imread(test_masks[n])[:,:,::-1]\n",
        "image *= 255\n",
        "ax2.imshow(image)\n",
        "ax2.set_axis_off()\n",
        "\n",
        "ax3 = fig.add_subplot(143)\n",
        "ax3.set_title('Prediction: ')\n",
        "image = cv2.imread(predictions[n])[:,:,::-1]\n",
        "ax3.imshow(image)\n",
        "ax3.set_axis_off()\n",
        "\n",
        "ax4 = fig.add_subplot(144)\n",
        "ax4.set_title('Regularization: ')\n",
        "image = cv2.imread(regularizations[n])[:,:,::-1]\n",
        "ax4.imshow(image)\n",
        "ax4.set_axis_off()\n",
        "\n",
        "# DEFINE PATH FOR PLOTS TO BE SAVED\n",
        "figPath = GD_PATH + \"/\" + \"plots\" + \"/\" \"compare-\" + str(n) + \".png\"\n",
        "print(figPath)\n",
        "\n",
        "# Save plot\n",
        "fig.savefig(figPath)"
      ]
    },
    {
      "cell_type": "markdown",
      "metadata": {
        "id": "-A6zYTIDM3fY"
      },
      "source": [
        "### VECTORIZING THE REGULARIZED BUILDING MASKS with GDAL\n",
        "\n",
        "GDAL: https://gdal.org/'\n",
        "\n",
        "GDAL: https://www.youtube.com/watch?v=q3DLdMj5zLA\n",
        "\n",
        "I do not know if it is possible to install GDAL on WINDOWS inside a conda environment.\n",
        "\n",
        "On Ubuntu you have to follow these steps:\n",
        "\n",
        "\n",
        "\n",
        "Specific process for installation: https://stackoverflow.com/questions/44005694/no-module-named-gdal\n",
        "\n",
        "- sudo apt-get update && sudo apt upgrade -y && sudo apt autoremove \n",
        "- sudo apt-get install -y cdo nco gdal-bin libgdal-dev-\n",
        "- python -m pip install --upgrade pip setuptools wheel\n",
        "- python -m pip install --upgrade gdal\n",
        "- conda install -c conda forge libgdal\n",
        "- conda install -c conda-forge libgdal\n",
        "- conda install -c conda-forge gdal\n",
        "- conda install tiledb=2.2\n",
        "- conda install poppler\n",
        "\n",
        "When you have this you can hopefully vectorize the detected masks quite easily."
      ]
    },
    {
      "cell_type": "code",
      "execution_count": null,
      "metadata": {},
      "outputs": [],
      "source": [
        "def get_fname_from_path(path):\n",
        "    \"\"\"\n",
        "    Given a path, returns the filename after the last frontslash character.\n",
        "    \"\"\"\n",
        "    return path.rsplit('/', 1)[-1]\n",
        "\n",
        "def get_fname_no_extension(path):\n",
        "    \"\"\"\n",
        "    Given a path, returns the filename without its extension.\n",
        "    \"\"\"\n",
        "    filename, extension = os.path.splitext(path)\n",
        "    return filename"
      ]
    },
    {
      "cell_type": "code",
      "execution_count": null,
      "metadata": {
        "id": "2DCVl0YraQQU"
      },
      "outputs": [],
      "source": [
        "import osgeo\n",
        "from osgeo import gdal\n",
        "from osgeo import ogr\n",
        "print('GDAL version: ', osgeo.gdal.__version__)\n",
        "\n",
        "# Choose which image to vectorize\n",
        "n  = 0\n",
        "\n",
        "input = regularizations[n]\n",
        "print()\n",
        "print(\"INPUT: \", input)\n",
        "\n",
        "# print(get_fname_no_extension(input))\n",
        "\n",
        "# out\n",
        "output = get_fname_from_path(get_fname_no_extension(input)) + \".gpkg\"\n",
        "print(\"OUTPUT: \", output)\n",
        "\n",
        "# Open image with GDAl driver\n",
        "ds = gdal.Open(input)\n",
        "# Get the band\n",
        "band = ds.GetRasterBand(1)\n",
        "\n",
        "# Create the output shapefile\n",
        "driver = ogr.GetDriverByName(\"GPKG\")\n",
        "out_ds = driver.CreateDataSource(output)\n",
        "out_layer = out_ds.CreateLayer(output, geom_type=ogr.wkbPolygon)\n",
        "\n",
        "# Add a field to the layer to store the pixel values\n",
        "field_defn = ogr.FieldDefn(\"Pix_Value\", ogr.OFTInteger)\n",
        "out_layer.CreateField(field_defn)\n",
        "\n",
        "# Polygonize the PNG file\n",
        "gdal.Polygonize(band, None, out_layer, 0, [], callback=None)\n",
        "\n",
        "# Close the input and output files\n",
        "out_ds = None\n",
        "ds = None"
      ]
    },
    {
      "cell_type": "markdown",
      "metadata": {
        "id": "y1mE-0WgOTdh"
      },
      "source": [
        "For the builing detection case we need to only keep the vectors with pixel value 255. Easiest solution is to use: Extract by attribute. The Python solution with GDAL can be found below."
      ]
    },
    {
      "cell_type": "code",
      "execution_count": null,
      "metadata": {
        "id": "qw43uc_SOVOK"
      },
      "outputs": [],
      "source": [
        "# ogr2ogr -where ID=\"1\" outfile.gpkg infile.\n",
        "\n",
        "# RUN from the command line inside Ubuntu\n",
        "!ogr2ogr -where Pix_Value=\"255\" bergen_-5943_1104B.gpkg bergen_-5943_1104.gpkg"
      ]
    }
  ],
  "metadata": {
    "accelerator": "TPU",
    "colab": {
      "provenance": []
    },
    "gpuClass": "premium",
    "kernelspec": {
      "display_name": "torch",
      "language": "python",
      "name": "python3"
    },
    "language_info": {
      "codemirror_mode": {
        "name": "ipython",
        "version": 3
      },
      "file_extension": ".py",
      "mimetype": "text/x-python",
      "name": "python",
      "nbconvert_exporter": "python",
      "pygments_lexer": "ipython3",
      "version": "3.10.9"
    },
    "vscode": {
      "interpreter": {
        "hash": "5614dd747bc595cf94d4c937a609d8df6c75b545807dd5ca7f02df8b67f4ea7c"
      }
    }
  },
  "nbformat": 4,
  "nbformat_minor": 0
}
