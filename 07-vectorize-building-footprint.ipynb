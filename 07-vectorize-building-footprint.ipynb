{
 "cells": [
  {
   "attachments": {},
   "cell_type": "markdown",
   "metadata": {},
   "source": [
    "### Vectorize the predicted building footprints with GDAL"
   ]
  },
  {
   "cell_type": "code",
   "execution_count": null,
   "metadata": {},
   "outputs": [],
   "source": [
    "import osgeo\n",
    "from osgeo import gdal\n",
    "from osgeo import ogr\n",
    "print('GDAL version: ', osgeo.gdal.__version__)\n",
    "\n",
    "# PROVIDE SEGMENTATION PATH\n",
    "input = \"INSERT PATH HERE\"\n",
    "\n",
    "# PROVIDE OUTPUT VECTOR FILE\n",
    "output = \"INSERT PATH HERE\"\n",
    "\n",
    "# Open image with GDAl driver\n",
    "ds = gdal.Open(input)\n",
    "\n",
    "# Get GeoTransform\n",
    "ds.SetGeoTransform([0,1,0,0,0,-1])\n",
    "\n",
    "# Get the band\n",
    "band = ds.GetRasterBand(1)\n",
    "# Create the output shapefile\n",
    "driver = ogr.GetDriverByName(\"GeoPackage\")\n",
    "out_ds = driver.CreateDataSource(output)\n",
    "out_layer = out_ds.CreateLayer(output, geom_type=ogr.wkbPolygon)\n",
    "\n",
    "# Add a field to the layer to store the pixel values\n",
    "field_defn = ogr.FieldDefn(\"Pix_Value\", ogr.OFTInteger)\n",
    "out_layer.CreateField(field_defn)\n",
    "\n",
    "# Polygonize the PNG file\n",
    "gdal.Polygonize(band, None, out_layer, 0, [], callback=None)\n",
    "\n",
    "# Close the input and output files\n",
    "out_ds = None\n",
    "ds = None"
   ]
  },
  {
   "cell_type": "code",
   "execution_count": null,
   "metadata": {},
   "outputs": [],
   "source": [
    "# ogr2ogr -where ID=\"1\" OUTFILE.gpkg INFILE.gpkg\n",
    "\n",
    "# RUN from the command line inside Ubuntu\n",
    "# Change name of input and output according to user needs\n",
    "\n",
    "!ogr2ogr -where Pix_Value=\"255\" bergen_-5943_1104B.gpkg bergen_-5943_1104.gpkg"
   ]
  }
 ],
 "metadata": {
  "kernelspec": {
   "display_name": "Python 3",
   "language": "python",
   "name": "python3"
  },
  "language_info": {
   "codemirror_mode": {
    "name": "ipython",
    "version": 3
   },
   "file_extension": ".py",
   "mimetype": "text/x-python",
   "name": "python",
   "nbconvert_exporter": "python",
   "pygments_lexer": "ipython3",
   "version": "3.10.6"
  },
  "orig_nbformat": 4,
  "vscode": {
   "interpreter": {
    "hash": "e7370f93d1d0cde622a1f8e1c04877d8463912d04d973331ad4851f04de6915a"
   }
  }
 },
 "nbformat": 4,
 "nbformat_minor": 2
}
